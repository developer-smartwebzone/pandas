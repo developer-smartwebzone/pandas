{
 "cells": [
  {
   "cell_type": "code",
   "execution_count": 9,
   "metadata": {},
   "outputs": [
    {
     "name": "stdout",
     "output_type": "stream",
     "text": [
      "  Name  Age  Passout\n",
      "0    A   20     2015\n",
      "1    B   30     2016\n",
      "2    C   20     2017\n",
      "3    D   13     2014\n",
      "4    E   45     2013\n"
     ]
    }
   ],
   "source": [
    "import pandas as p\n",
    "df={'Name':['A','B','C','D','E','F','G'],\n",
    "    'Age':[20,30,20,13,45,20,15],\n",
    "   'Passout':[2015,2016,2017,2014,2013,2018,2012]}\n",
    "x=p.DataFrame(df)                  # DataFrame create\n",
    "print(x.head())                    # .head()- default select top 5 rows"
   ]
  },
  {
   "cell_type": "code",
   "execution_count": 6,
   "metadata": {},
   "outputs": [
    {
     "name": "stdout",
     "output_type": "stream",
     "text": [
      "  Name  Age  Passout\n",
      "2    C   20     2017\n",
      "3    D   13     2014\n",
      "4    E   45     2013\n",
      "5    F   20     2018\n",
      "6    G   15     2012\n"
     ]
    }
   ],
   "source": [
    "import pandas as p\n",
    "df={'Name':['A','B','C','D','E','F','G'],\n",
    "    'Age':[20,30,20,13,45,20,15],\n",
    "   'Passout':[2015,2016,2017,2014,2013,2018,2012]}\n",
    "x=p.DataFrame(df)                  # DataFrame create\n",
    "print(x.tail())                    # .tail()- default select top 5 rows"
   ]
  },
  {
   "cell_type": "code",
   "execution_count": 8,
   "metadata": {},
   "outputs": [
    {
     "name": "stdout",
     "output_type": "stream",
     "text": [
      "(7, 3)\n"
     ]
    }
   ],
   "source": [
    "import pandas as p\n",
    "df={'Name':['A','B','C','D','E','F','G'],\n",
    "    'Age':[20,30,20,13,45,20,15],\n",
    "   'Passout':[2015,2016,2017,2014,2013,2018,2012]}\n",
    "x=p.DataFrame(df)                  # DataFrame create\n",
    "print(x.shape)                    # .shape- tells no of rows and columns"
   ]
  },
  {
   "cell_type": "code",
   "execution_count": 15,
   "metadata": {},
   "outputs": [
    {
     "name": "stdout",
     "output_type": "stream",
     "text": [
      "(3,)\n"
     ]
    }
   ],
   "source": [
    "import pandas as p\n",
    "df={'Name':['A','B','C','D','E','F','G'],\n",
    "    'Age':[20,30,20,13,45,20,15],\n",
    "   'Passout':[2015,2016,2017,2014,2013,2018,2012]}\n",
    "x=p.Series(df)                  # DataFrame create\n",
    "# print(x.head())                    # .head()- default select top 5 rows\n",
    "# print(x.tail())\n",
    "print(x.shape)                           "
   ]
  },
  {
   "cell_type": "code",
   "execution_count": null,
   "metadata": {},
   "outputs": [],
   "source": []
  },
  {
   "cell_type": "code",
   "execution_count": null,
   "metadata": {},
   "outputs": [],
   "source": []
  },
  {
   "cell_type": "code",
   "execution_count": null,
   "metadata": {},
   "outputs": [],
   "source": []
  }
 ],
 "metadata": {
  "kernelspec": {
   "display_name": "Python 3",
   "language": "python",
   "name": "python3"
  },
  "language_info": {
   "codemirror_mode": {
    "name": "ipython",
    "version": 3
   },
   "file_extension": ".py",
   "mimetype": "text/x-python",
   "name": "python",
   "nbconvert_exporter": "python",
   "pygments_lexer": "ipython3",
   "version": "3.6.5"
  }
 },
 "nbformat": 4,
 "nbformat_minor": 2
}
