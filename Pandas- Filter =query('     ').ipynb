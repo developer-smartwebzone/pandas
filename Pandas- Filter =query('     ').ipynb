{
 "cells": [
  {
   "cell_type": "code",
   "execution_count": 29,
   "metadata": {},
   "outputs": [
    {
     "name": "stdout",
     "output_type": "stream",
     "text": [
      "   Unnamed: 0 Name  Age  Passout\n",
      "1           1    B   30     2016\n",
      "4           4    E   45     2013\n",
      "5           5    F   45     2018\n",
      "Unnamed: 0       5\n",
      "Name             F\n",
      "Age             45\n",
      "Passout       2018\n",
      "dtype: object\n",
      "\n",
      "   Unnamed: 0 Name  Age  Passout\n",
      "4           4    E   45     2013\n"
     ]
    }
   ],
   "source": [
    "import pandas as p\n",
    "df=p.read_csv('x.csv')\n",
    "\n",
    "df.iloc[5,2]=45\n",
    "df\n",
    "y=df.query('Age>=30')            # first method of filter .query(conditon)\n",
    "print(y)\n",
    "\n",
    "y=df [df.Age>=30]              # second method of filter df[df.column_name>=condition]\n",
    "print(y)\n",
    "\n",
    "# y=df[(df.Age>=30) and (df.Name=='E')]            # doubt showing error\n",
    "# y\n",
    "print()\n",
    "y=df[(df.Age>=30) & (df.Name=='E')]\n",
    "print(y)"
   ]
  },
  {
   "cell_type": "code",
   "execution_count": 35,
   "metadata": {},
   "outputs": [
    {
     "name": "stdout",
     "output_type": "stream",
     "text": [
      "Unnamed: 0       5\n",
      "Name             F\n",
      "Age             45\n",
      "Passout       2018\n",
      "dtype: object\n",
      "\n",
      "Unnamed: 0    3\n",
      "Name          3\n",
      "Age           3\n",
      "Passout       3\n",
      "dtype: int64\n",
      "Int64Index([1, 4, 5], dtype='int64')\n",
      "\n",
      "Int64Index([1, 4, 5], dtype='int64')\n"
     ]
    }
   ],
   "source": [
    "import pandas as p\n",
    "df=p.read_csv('x.csv')\n",
    "\n",
    "df.iloc[5,2]=45\n",
    "df\n",
    "y=df.query('Age>=30').max()    # .query().function() to get value acc to function call\n",
    "print(y)\n",
    "print()\n",
    "y=df [df.Age>=30].count()         # df[df.column_name>=condition].function()\n",
    "print(y)\n",
    "z=df.query('Age>=30').index    # .query().index-> get index of filter   \n",
    "print(z)\n",
    "print()\n",
    "y=df [df.Age>=30].index\n",
    "print(y)"
   ]
  },
  {
   "cell_type": "code",
   "execution_count": 7,
   "metadata": {},
   "outputs": [
    {
     "data": {
      "text/html": [
       "<div>\n",
       "<style scoped>\n",
       "    .dataframe tbody tr th:only-of-type {\n",
       "        vertical-align: middle;\n",
       "    }\n",
       "\n",
       "    .dataframe tbody tr th {\n",
       "        vertical-align: top;\n",
       "    }\n",
       "\n",
       "    .dataframe thead th {\n",
       "        text-align: right;\n",
       "    }\n",
       "</style>\n",
       "<table border=\"1\" class=\"dataframe\">\n",
       "  <thead>\n",
       "    <tr style=\"text-align: right;\">\n",
       "      <th></th>\n",
       "      <th>Unnamed: 0</th>\n",
       "      <th>Name</th>\n",
       "      <th>Age</th>\n",
       "      <th>Passout</th>\n",
       "    </tr>\n",
       "  </thead>\n",
       "  <tbody>\n",
       "    <tr>\n",
       "      <th>4</th>\n",
       "      <td>4</td>\n",
       "      <td>E</td>\n",
       "      <td>45</td>\n",
       "      <td>2013</td>\n",
       "    </tr>\n",
       "  </tbody>\n",
       "</table>\n",
       "</div>"
      ],
      "text/plain": [
       "   Unnamed: 0 Name  Age  Passout\n",
       "4           4    E   45     2013"
      ]
     },
     "execution_count": 7,
     "metadata": {},
     "output_type": "execute_result"
    }
   ],
   "source": [
    "import pandas as p\n",
    "df=p.read_csv(\"x.csv\")\n",
    "df.columns\n",
    "df.head()\n",
    "df.query('Age>=30 and Name==\"E\"')   # .query('Name==\"Value\"') \"\" value it will conduct"
   ]
  }
 ],
 "metadata": {
  "kernelspec": {
   "display_name": "Python 3",
   "language": "python",
   "name": "python3"
  },
  "language_info": {
   "codemirror_mode": {
    "name": "ipython",
    "version": 3
   },
   "file_extension": ".py",
   "mimetype": "text/x-python",
   "name": "python",
   "nbconvert_exporter": "python",
   "pygments_lexer": "ipython3",
   "version": "3.6.5"
  }
 },
 "nbformat": 4,
 "nbformat_minor": 2
}
