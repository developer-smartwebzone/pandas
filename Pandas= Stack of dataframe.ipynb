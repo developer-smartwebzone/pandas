{
 "cells": [
  {
   "cell_type": "code",
   "execution_count": 6,
   "metadata": {},
   "outputs": [
    {
     "data": {
      "text/plain": [
       "0  Unnamed: 0       0\n",
       "   Name             A\n",
       "   Age             20\n",
       "   Passout       2015\n",
       "1  Unnamed: 0       1\n",
       "   Name             B\n",
       "   Age             30\n",
       "   Passout       2016\n",
       "2  Unnamed: 0       2\n",
       "   Name             C\n",
       "   Age             20\n",
       "   Passout       2017\n",
       "3  Unnamed: 0       3\n",
       "   Name             D\n",
       "   Age             13\n",
       "   Passout       2014\n",
       "4  Unnamed: 0       4\n",
       "   Name             E\n",
       "   Age             45\n",
       "   Passout       2013\n",
       "5  Unnamed: 0       5\n",
       "   Name             F\n",
       "   Age             20\n",
       "   Passout       2018\n",
       "6  Unnamed: 0       6\n",
       "   Name             G\n",
       "   Age             15\n",
       "   Passout       2012\n",
       "dtype: object"
      ]
     },
     "execution_count": 6,
     "metadata": {},
     "output_type": "execute_result"
    }
   ],
   "source": [
    "import pandas as p\n",
    "df=p.read_csv(\"new_x.csv\")\n",
    "df.stack()      # .stack() used to get values columns wise 1 by 1"
   ]
  },
  {
   "cell_type": "code",
   "execution_count": null,
   "metadata": {},
   "outputs": [],
   "source": []
  }
 ],
 "metadata": {
  "kernelspec": {
   "display_name": "Python 3",
   "language": "python",
   "name": "python3"
  },
  "language_info": {
   "codemirror_mode": {
    "name": "ipython",
    "version": 3
   },
   "file_extension": ".py",
   "mimetype": "text/x-python",
   "name": "python",
   "nbconvert_exporter": "python",
   "pygments_lexer": "ipython3",
   "version": "3.6.5"
  }
 },
 "nbformat": 4,
 "nbformat_minor": 2
}
