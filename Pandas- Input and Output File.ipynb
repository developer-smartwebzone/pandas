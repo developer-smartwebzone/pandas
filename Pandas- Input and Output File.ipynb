{
 "cells": [
  {
   "cell_type": "code",
   "execution_count": 1,
   "metadata": {},
   "outputs": [],
   "source": [
    "import pandas as p\n",
    "df={'Name':['A','B','C','D','E','F','G'],\n",
    "    'Age':[20,30,20,13,45,20,15],\n",
    "   'Passout':[2015,2016,2017,2014,2013,2018,2012]}\n",
    "x=p.DataFrame(df)                  # DataFrame create\n",
    "x.to_csv(\"x.csv\")                  # .to_filetype(\"filename\") use to export file\n",
    "\n"
   ]
  },
  {
   "cell_type": "code",
   "execution_count": 4,
   "metadata": {},
   "outputs": [
    {
     "name": "stdout",
     "output_type": "stream",
     "text": [
      "   Unnamed: 0 Name  Age  Passout\n",
      "0           0    A   20     2015\n",
      "1           1    B   30     2016\n",
      "2           2    C   20     2017\n",
      "3           3    D   13     2014\n",
      "4           4    E   45     2013\n",
      "5           5    F   20     2018\n",
      "6           6    G   15     2012\n"
     ]
    }
   ],
   "source": [
    "import pandas as p\n",
    "y=p.read_csv('x.csv')          # .read_filetype('filename')\n",
    "print(y)"
   ]
  }
 ],
 "metadata": {
  "kernelspec": {
   "display_name": "Python 3",
   "language": "python",
   "name": "python3"
  },
  "language_info": {
   "codemirror_mode": {
    "name": "ipython",
    "version": 3
   },
   "file_extension": ".py",
   "mimetype": "text/x-python",
   "name": "python",
   "nbconvert_exporter": "python",
   "pygments_lexer": "ipython3",
   "version": "3.6.5"
  }
 },
 "nbformat": 4,
 "nbformat_minor": 2
}
