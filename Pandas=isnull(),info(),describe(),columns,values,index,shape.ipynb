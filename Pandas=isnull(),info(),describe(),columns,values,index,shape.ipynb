{
 "cells": [
  {
   "cell_type": "code",
   "execution_count": 4,
   "metadata": {},
   "outputs": [
    {
     "name": "stdout",
     "output_type": "stream",
     "text": [
      "Index(['Unnamed: 0', 'Name', 'Age', 'Passout'], dtype='object')\n"
     ]
    }
   ],
   "source": [
    "import pandas as p\n",
    "df=p.read_csv('new_x.csv')\n",
    "print(df.columns)   # columns name"
   ]
  },
  {
   "cell_type": "code",
   "execution_count": 6,
   "metadata": {},
   "outputs": [
    {
     "name": "stdout",
     "output_type": "stream",
     "text": [
      "[[0 'A' 20 2015]\n",
      " [1 'B' 30 2016]\n",
      " [2 'C' 20 2017]\n",
      " [3 'D' 13 2014]\n",
      " [4 'E' 45 2013]\n",
      " [5 'F' 20 2018]\n",
      " [6 'G' 15 2012]]\n"
     ]
    }
   ],
   "source": [
    "import pandas as p\n",
    "df=p.read_csv('new_x.csv')\n",
    "print(df.values)   # columns values"
   ]
  },
  {
   "cell_type": "code",
   "execution_count": 7,
   "metadata": {},
   "outputs": [
    {
     "name": "stdout",
     "output_type": "stream",
     "text": [
      "(7, 4)\n"
     ]
    }
   ],
   "source": [
    "import pandas as p\n",
    "df=p.read_csv('new_x.csv')\n",
    "print(df.shape)    # size(rows and columns)"
   ]
  },
  {
   "cell_type": "code",
   "execution_count": 9,
   "metadata": {},
   "outputs": [
    {
     "name": "stdout",
     "output_type": "stream",
     "text": [
      "<class 'pandas.core.frame.DataFrame'>\n",
      "RangeIndex: 7 entries, 0 to 6\n",
      "Data columns (total 4 columns):\n",
      "Unnamed: 0    7 non-null int64\n",
      "Name          7 non-null object\n",
      "Age           7 non-null int64\n",
      "Passout       7 non-null int64\n",
      "dtypes: int64(3), object(1)\n",
      "memory usage: 304.0+ bytes\n",
      "None\n"
     ]
    }
   ],
   "source": [
    "import pandas as p\n",
    "df=p.read_csv('new_x.csv')\n",
    "print(df.info())    # info all about file-index,columns number, null value or not,memory use,class"
   ]
  },
  {
   "cell_type": "code",
   "execution_count": 11,
   "metadata": {},
   "outputs": [
    {
     "name": "stdout",
     "output_type": "stream",
     "text": [
      "       Unnamed: 0        Age      Passout\n",
      "count    7.000000   7.000000     7.000000\n",
      "mean     3.000000  23.285714  2015.000000\n",
      "std      2.160247  10.980502     2.160247\n",
      "min      0.000000  13.000000  2012.000000\n",
      "25%      1.500000  17.500000  2013.500000\n",
      "50%      3.000000  20.000000  2015.000000\n",
      "75%      4.500000  25.000000  2016.500000\n",
      "max      6.000000  45.000000  2018.000000\n"
     ]
    }
   ],
   "source": [
    "import pandas as p\n",
    "df=p.read_csv('new_x.csv')\n",
    "print(df.describe()) # shows some basic functions like count,mean,etc\n",
    "                     # very used to analysis the files "
   ]
  },
  {
   "cell_type": "code",
   "execution_count": 13,
   "metadata": {},
   "outputs": [
    {
     "name": "stdout",
     "output_type": "stream",
     "text": [
      "   Unnamed: 0   Name    Age  Passout\n",
      "0       False  False  False    False\n",
      "1       False  False  False    False\n",
      "2       False  False  False    False\n",
      "3       False  False  False    False\n",
      "4       False  False  False    False\n",
      "5       False  False  False    False\n",
      "6       False  False  False    False\n"
     ]
    }
   ],
   "source": [
    "import pandas as p\n",
    "df=p.read_csv('new_x.csv')\n",
    "print(df.isnull()) # use to know null values \n",
    "                   # return boolean values"
   ]
  },
  {
   "cell_type": "code",
   "execution_count": 17,
   "metadata": {},
   "outputs": [
    {
     "name": "stdout",
     "output_type": "stream",
     "text": [
      "RangeIndex(start=0, stop=7, step=1)\n"
     ]
    }
   ],
   "source": [
    "import pandas as p\n",
    "df=p.read_csv('new_x.csv')\n",
    "print(df.index)    # use to get index range"
   ]
  }
 ],
 "metadata": {
  "kernelspec": {
   "display_name": "Python 3",
   "language": "python",
   "name": "python3"
  },
  "language_info": {
   "codemirror_mode": {
    "name": "ipython",
    "version": 3
   },
   "file_extension": ".py",
   "mimetype": "text/x-python",
   "name": "python",
   "nbconvert_exporter": "python",
   "pygments_lexer": "ipython3",
   "version": "3.6.5"
  }
 },
 "nbformat": 4,
 "nbformat_minor": 2
}
