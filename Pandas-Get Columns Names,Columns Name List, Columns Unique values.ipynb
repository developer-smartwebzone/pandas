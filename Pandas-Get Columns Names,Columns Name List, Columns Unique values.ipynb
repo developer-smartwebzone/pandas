{
 "cells": [
  {
   "cell_type": "code",
   "execution_count": 12,
   "metadata": {},
   "outputs": [
    {
     "name": "stdout",
     "output_type": "stream",
     "text": [
      "Index(['Unnamed: 0', 'Name', 'Age', 'Passout'], dtype='object')\n",
      "['Unnamed: 0', 'Name', 'Age', 'Passout']\n",
      "['Unnamed: 0', 'Name', 'Age', 'Passout']\n"
     ]
    }
   ],
   "source": [
    "import pandas as p\n",
    "df=p.read_csv(\"new_x.csv\")\n",
    "print(df.columns)                  # index and datatype of columns\n",
    "print(list(df.columns.values))     # get list of columns_names only\n",
    "print(list(df))                    # second method to get columns_name only"
   ]
  },
  {
   "cell_type": "code",
   "execution_count": 15,
   "metadata": {},
   "outputs": [
    {
     "name": "stdout",
     "output_type": "stream",
     "text": [
      "[20 30 13 45 15]\n"
     ]
    }
   ],
   "source": [
    "import pandas as p\n",
    "df=p.read_csv(\"new_x.csv\")\n",
    "print(df.Age.unique())        # to find unique value= dataframe.Column_name.unique()"
   ]
  }
 ],
 "metadata": {
  "kernelspec": {
   "display_name": "Python 3",
   "language": "python",
   "name": "python3"
  },
  "language_info": {
   "codemirror_mode": {
    "name": "ipython",
    "version": 3
   },
   "file_extension": ".py",
   "mimetype": "text/x-python",
   "name": "python",
   "nbconvert_exporter": "python",
   "pygments_lexer": "ipython3",
   "version": "3.6.5"
  }
 },
 "nbformat": 4,
 "nbformat_minor": 2
}
