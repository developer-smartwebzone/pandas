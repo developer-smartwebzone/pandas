{
 "cells": [
  {
   "cell_type": "code",
   "execution_count": 2,
   "metadata": {},
   "outputs": [
    {
     "name": "stdout",
     "output_type": "stream",
     "text": [
      "   0\n",
      "0  1\n",
      "1  2\n",
      "2  3\n",
      "3  4\n",
      "4  5\n",
      "5  6\n",
      "6  7\n",
      "<class 'list'>\n"
     ]
    }
   ],
   "source": [
    "import pandas as p\n",
    "sr=[1,2,3,4,5,6,7]                     # sr is list \n",
    "print(p.DataFrame(sr))                    # pandas.DataFrame(data) use to create DataFrame \n",
    "print(type(sr))                           # Rows And Columns"
   ]
  },
  {
   "cell_type": "code",
   "execution_count": 3,
   "metadata": {},
   "outputs": [
    {
     "name": "stdout",
     "output_type": "stream",
     "text": [
      "   0  1  2    3\n",
      "0  1  2  3  4.0\n",
      "1  5  6  7  NaN\n",
      "<class 'list'>\n"
     ]
    }
   ],
   "source": [
    "import pandas as p\n",
    "sr=[[1,2,3,4],[5,6,7]]                     # sr is nested list \n",
    "print(p.DataFrame(sr))                    # pandas.DataFrame(data) use to create DataFrame \n",
    "print(type(sr))                           # Rows And Columns"
   ]
  },
  {
   "cell_type": "code",
   "execution_count": 6,
   "metadata": {},
   "outputs": [
    {
     "name": "stdout",
     "output_type": "stream",
     "text": [
      "<class 'tuple'>\n"
     ]
    }
   ],
   "source": [
    "import pandas as p\n",
    "sr=((1,2,3,4),(5,6,7))                     # sr is tuple\n",
    "#print(p.DataFrame(sr)) #error                   # pandas.DataFrame(data) use to create DataFrame \n",
    "print(type(sr))                           # Rows And Columns"
   ]
  },
  {
   "cell_type": "code",
   "execution_count": 10,
   "metadata": {},
   "outputs": [
    {
     "name": "stdout",
     "output_type": "stream",
     "text": [
      "   1   2\n",
      "0  1   5\n",
      "1  2   6\n",
      "2  3   7\n",
      "3  4  10\n",
      "<class 'dict'>\n"
     ]
    }
   ],
   "source": [
    "import pandas as p\n",
    "sr={1:(1,2,3,4),2:(5,6,7,10)}                     # sr is Dictionary\n",
    "print(p.DataFrame(sr)) #error                   # pandas.DataFrame(data) use to create DataFrame \n",
    "print(type(sr))                           # Rows=Values And Columns =Key name\n",
    "                                          # Values should be same length"
   ]
  },
  {
   "cell_type": "code",
   "execution_count": 11,
   "metadata": {},
   "outputs": [
    {
     "name": "stdout",
     "output_type": "stream",
     "text": [
      "              1              2\n",
      "0  {1, 2, 3, 4}  {10, 5, 6, 7}\n",
      "1  {1, 2, 3, 4}  {10, 5, 6, 7}\n",
      "2  {1, 2, 3, 4}  {10, 5, 6, 7}\n",
      "3  {1, 2, 3, 4}  {10, 5, 6, 7}\n",
      "<class 'dict'>\n"
     ]
    }
   ],
   "source": [
    "import pandas as p\n",
    "sr={1:{1,2,3,4},2:{5,6,7,10}}                     # sr is Dictionary\n",
    "print(p.DataFrame(sr)) #error                   # pandas.DataFrame(data) use to create DataFrame \n",
    "print(type(sr))                           # Rows=Values And Columns =Key name\n",
    "\n",
    "                                          # Doubt- need to understand output"
   ]
  },
  {
   "cell_type": "code",
   "execution_count": 12,
   "metadata": {},
   "outputs": [
    {
     "name": "stdout",
     "output_type": "stream",
     "text": [
      "   1   2\n",
      "0  1   5\n",
      "1  2   6\n",
      "2  3   7\n",
      "3  4  10\n",
      "<class 'dict'>\n"
     ]
    }
   ],
   "source": [
    "import pandas as p\n",
    "sr={1:[1,2,3,4],2:[5,6,7,10]}                     # sr is Dictionary with list values\n",
    "print(p.DataFrame(sr)) #error                   # pandas.DataFrame(data) use to create DataFrame \n",
    "print(type(sr))                           # Rows=Values And Columns =Key name"
   ]
  }
 ],
 "metadata": {
  "kernelspec": {
   "display_name": "Python 3",
   "language": "python",
   "name": "python3"
  },
  "language_info": {
   "codemirror_mode": {
    "name": "ipython",
    "version": 3
   },
   "file_extension": ".py",
   "mimetype": "text/x-python",
   "name": "python",
   "nbconvert_exporter": "python",
   "pygments_lexer": "ipython3",
   "version": "3.6.5"
  }
 },
 "nbformat": 4,
 "nbformat_minor": 2
}
