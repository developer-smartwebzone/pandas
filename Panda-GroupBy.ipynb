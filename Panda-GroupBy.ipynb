{
 "cells": [
  {
   "cell_type": "code",
   "execution_count": 50,
   "metadata": {},
   "outputs": [
    {
     "data": {
      "text/html": [
       "<div>\n",
       "<style scoped>\n",
       "    .dataframe tbody tr th:only-of-type {\n",
       "        vertical-align: middle;\n",
       "    }\n",
       "\n",
       "    .dataframe tbody tr th {\n",
       "        vertical-align: top;\n",
       "    }\n",
       "\n",
       "    .dataframe thead th {\n",
       "        text-align: right;\n",
       "    }\n",
       "</style>\n",
       "<table border=\"1\" class=\"dataframe\">\n",
       "  <thead>\n",
       "    <tr style=\"text-align: right;\">\n",
       "      <th></th>\n",
       "      <th>Name</th>\n",
       "    </tr>\n",
       "    <tr>\n",
       "      <th>City</th>\n",
       "      <th></th>\n",
       "    </tr>\n",
       "  </thead>\n",
       "  <tbody>\n",
       "    <tr>\n",
       "      <th>Chandigarh</th>\n",
       "      <td>1</td>\n",
       "    </tr>\n",
       "    <tr>\n",
       "      <th>Delhi</th>\n",
       "      <td>2</td>\n",
       "    </tr>\n",
       "    <tr>\n",
       "      <th>Jalandhar</th>\n",
       "      <td>1</td>\n",
       "    </tr>\n",
       "    <tr>\n",
       "      <th>Kaithal</th>\n",
       "      <td>2</td>\n",
       "    </tr>\n",
       "  </tbody>\n",
       "</table>\n",
       "</div>"
      ],
      "text/plain": [
       "            Name\n",
       "City            \n",
       "Chandigarh     1\n",
       "Delhi          2\n",
       "Jalandhar      1\n",
       "Kaithal        2"
      ]
     },
     "execution_count": 50,
     "metadata": {},
     "output_type": "execute_result"
    }
   ],
   "source": [
    "import pandas as p\n",
    "df = p.DataFrame( {\n",
    "\"Name\" : [\"Aman\", \"Anita\", \"Rohan\", \"Joe\", \"Neha\" , \"Karthik\"] ,\n",
    "\"City\" : [\"Chandigarh\", \"Kaithal\", \"Kaithal\", \"Jalandhar\", \"Delhi\",\"Delhi\"], \n",
    "    \"Employed\":[\"yes\",\"yes\",\"no\",\"yes\",\"yes\",\"no\"] } )\n",
    "df.groupby([\"City\"])[[\"Name\"]].count()\n",
    "                         #.groupup([\"Column_name\"])[[\"groupbycolumn\"]].function()\n",
    "\n",
    "\n"
   ]
  },
  {
   "cell_type": "code",
   "execution_count": 40,
   "metadata": {},
   "outputs": [
    {
     "name": "stdout",
     "output_type": "stream",
     "text": [
      "     Name  Passout\n",
      "Age               \n",
      "13      1        1\n",
      "15      1        1\n",
      "20      3        3\n",
      "30      1        1\n",
      "45      1        1\n",
      "   Unnamed: 0 Name  Age  Passout\n",
      "0           0    A   20     2015\n",
      "2           2    C   20     2017\n",
      "5           5    F   20     2018\n"
     ]
    },
    {
     "data": {
      "text/html": [
       "<div>\n",
       "<style scoped>\n",
       "    .dataframe tbody tr th:only-of-type {\n",
       "        vertical-align: middle;\n",
       "    }\n",
       "\n",
       "    .dataframe tbody tr th {\n",
       "        vertical-align: top;\n",
       "    }\n",
       "\n",
       "    .dataframe thead th {\n",
       "        text-align: right;\n",
       "    }\n",
       "</style>\n",
       "<table border=\"1\" class=\"dataframe\">\n",
       "  <thead>\n",
       "    <tr style=\"text-align: right;\">\n",
       "      <th></th>\n",
       "      <th></th>\n",
       "      <th>Passout</th>\n",
       "    </tr>\n",
       "    <tr>\n",
       "      <th>Age</th>\n",
       "      <th>Name</th>\n",
       "      <th></th>\n",
       "    </tr>\n",
       "  </thead>\n",
       "  <tbody>\n",
       "    <tr>\n",
       "      <th>13</th>\n",
       "      <th>D</th>\n",
       "      <td>1</td>\n",
       "    </tr>\n",
       "    <tr>\n",
       "      <th>15</th>\n",
       "      <th>G</th>\n",
       "      <td>1</td>\n",
       "    </tr>\n",
       "    <tr>\n",
       "      <th rowspan=\"3\" valign=\"top\">20</th>\n",
       "      <th>A</th>\n",
       "      <td>1</td>\n",
       "    </tr>\n",
       "    <tr>\n",
       "      <th>C</th>\n",
       "      <td>1</td>\n",
       "    </tr>\n",
       "    <tr>\n",
       "      <th>F</th>\n",
       "      <td>1</td>\n",
       "    </tr>\n",
       "    <tr>\n",
       "      <th>30</th>\n",
       "      <th>B</th>\n",
       "      <td>1</td>\n",
       "    </tr>\n",
       "    <tr>\n",
       "      <th>45</th>\n",
       "      <th>E</th>\n",
       "      <td>1</td>\n",
       "    </tr>\n",
       "  </tbody>\n",
       "</table>\n",
       "</div>"
      ],
      "text/plain": [
       "          Passout\n",
       "Age Name         \n",
       "13  D           1\n",
       "15  G           1\n",
       "20  A           1\n",
       "    C           1\n",
       "    F           1\n",
       "30  B           1\n",
       "45  E           1"
      ]
     },
     "execution_count": 40,
     "metadata": {},
     "output_type": "execute_result"
    }
   ],
   "source": [
    "import pandas as p\n",
    "df=p.read_csv('x.csv')\n",
    "z=df.groupby(\"Age\")[[\"Name\",\"Passout\"]].count()   #.groupby([column_name])[[list of columns]].fun()\n",
    "print(z)\n",
    "print(df.query('Age==20'))\n",
    "z=df.groupby([\"Age\",\"Name\"])[[\"Passout\"]].count()   #.groupby([list of columns])[[\"Column_name\"]].fun()\n",
    "z"
   ]
  },
  {
   "cell_type": "code",
   "execution_count": 45,
   "metadata": {},
   "outputs": [
    {
     "name": "stdout",
     "output_type": "stream",
     "text": [
      "     Name  Passout\n",
      "Age               \n",
      "13      1        1\n",
      "15      1        1\n",
      "20      3        3\n",
      "30      1        1\n",
      "45      1        1\n"
     ]
    },
    {
     "data": {
      "text/plain": [
       "Age  Name\n",
       "13   D       1\n",
       "15   G       1\n",
       "20   A       1\n",
       "     C       1\n",
       "     F       1\n",
       "30   B       1\n",
       "45   E       1\n",
       "Name: Passout, dtype: int64"
      ]
     },
     "execution_count": 45,
     "metadata": {},
     "output_type": "execute_result"
    }
   ],
   "source": [
    "import pandas as p\n",
    "df=p.read_csv('x.csv')\n",
    "z=df.groupby(\"Age\")[[\"Name\",\"Passout\"]].count()   #.groupby([])[[]]-> [[ ]] used to create Dataframe\n",
    "print(z)\n",
    "\n",
    "z=df.groupby([\"Age\",\"Name\"])[\"Passout\"].count()   #.groupby([])[]-> [] used to create Series\n",
    "z"
   ]
  },
  {
   "cell_type": "code",
   "execution_count": 47,
   "metadata": {},
   "outputs": [
    {
     "name": "stdout",
     "output_type": "stream",
     "text": [
      "13\n",
      "   Unnamed: 0 Name  Age  Passout\n",
      "3           3    D   13     2014\n",
      "15\n",
      "   Unnamed: 0 Name  Age  Passout\n",
      "6           6    G   15     2012\n",
      "20\n",
      "   Unnamed: 0 Name  Age  Passout\n",
      "0           0    A   20     2015\n",
      "2           2    C   20     2017\n",
      "5           5    F   20     2018\n",
      "30\n",
      "   Unnamed: 0 Name  Age  Passout\n",
      "1           1    B   30     2016\n",
      "45\n",
      "   Unnamed: 0 Name  Age  Passout\n",
      "4           4    E   45     2013\n"
     ]
    }
   ],
   "source": [
    "import pandas as p\n",
    "df=p.read_csv('x.csv')\n",
    "z=df.groupby(\"Age\")[[\"Name\",\"Passout\"]]   #.groupby([])[[]]-> [[ ]] used to create Dataframe\n",
    "for i,j in z:\n",
    "    print(i)\n",
    "    print(j)\n"
   ]
  },
  {
   "cell_type": "code",
   "execution_count": 62,
   "metadata": {},
   "outputs": [
    {
     "name": "stdout",
     "output_type": "stream",
     "text": [
      "13\n",
      "   Unnamed: 0 Name  Age  Passout\n",
      "3           3    D   13     2014\n",
      "15\n",
      "   Unnamed: 0 Name  Age  Passout\n",
      "6           6    G   15     2012\n",
      "20\n",
      "   Unnamed: 0 Name  Age  Passout\n",
      "0           0    A   20     2015\n",
      "2           2    C   20     2017\n",
      "5           5    F   20     2018\n",
      "30\n",
      "   Unnamed: 0 Name  Age  Passout\n",
      "1           1    B   30     2016\n",
      "45\n",
      "   Unnamed: 0 Name  Age  Passout\n",
      "4           4    E   45     2013\n"
     ]
    },
    {
     "ename": "KeyError",
     "evalue": "'A'",
     "output_type": "error",
     "traceback": [
      "\u001b[1;31m---------------------------------------------------------------------------\u001b[0m",
      "\u001b[1;31mKeyError\u001b[0m                                  Traceback (most recent call last)",
      "\u001b[1;32m<ipython-input-62-8e322b8bb36a>\u001b[0m in \u001b[0;36m<module>\u001b[1;34m()\u001b[0m\n\u001b[0;32m      5\u001b[0m     \u001b[0mprint\u001b[0m\u001b[1;33m(\u001b[0m\u001b[0mi\u001b[0m\u001b[1;33m)\u001b[0m\u001b[1;33m\u001b[0m\u001b[0m\n\u001b[0;32m      6\u001b[0m     \u001b[0mprint\u001b[0m\u001b[1;33m(\u001b[0m\u001b[0mj\u001b[0m\u001b[1;33m)\u001b[0m\u001b[1;33m\u001b[0m\u001b[0m\n\u001b[1;32m----> 7\u001b[1;33m \u001b[0mz\u001b[0m\u001b[1;33m.\u001b[0m\u001b[0mget_group\u001b[0m\u001b[1;33m(\u001b[0m\u001b[1;34m\"A\"\u001b[0m\u001b[1;33m)\u001b[0m\u001b[1;33m\u001b[0m\u001b[0m\n\u001b[0m",
      "\u001b[1;32m~\\Anaconda3\\lib\\site-packages\\pandas\\core\\groupby\\groupby.py\u001b[0m in \u001b[0;36mget_group\u001b[1;34m(self, name, obj)\u001b[0m\n\u001b[0;32m    875\u001b[0m         \u001b[0minds\u001b[0m \u001b[1;33m=\u001b[0m \u001b[0mself\u001b[0m\u001b[1;33m.\u001b[0m\u001b[0m_get_index\u001b[0m\u001b[1;33m(\u001b[0m\u001b[0mname\u001b[0m\u001b[1;33m)\u001b[0m\u001b[1;33m\u001b[0m\u001b[0m\n\u001b[0;32m    876\u001b[0m         \u001b[1;32mif\u001b[0m \u001b[1;32mnot\u001b[0m \u001b[0mlen\u001b[0m\u001b[1;33m(\u001b[0m\u001b[0minds\u001b[0m\u001b[1;33m)\u001b[0m\u001b[1;33m:\u001b[0m\u001b[1;33m\u001b[0m\u001b[0m\n\u001b[1;32m--> 877\u001b[1;33m             \u001b[1;32mraise\u001b[0m \u001b[0mKeyError\u001b[0m\u001b[1;33m(\u001b[0m\u001b[0mname\u001b[0m\u001b[1;33m)\u001b[0m\u001b[1;33m\u001b[0m\u001b[0m\n\u001b[0m\u001b[0;32m    878\u001b[0m \u001b[1;33m\u001b[0m\u001b[0m\n\u001b[0;32m    879\u001b[0m         \u001b[1;32mreturn\u001b[0m \u001b[0mobj\u001b[0m\u001b[1;33m.\u001b[0m\u001b[0m_take\u001b[0m\u001b[1;33m(\u001b[0m\u001b[0minds\u001b[0m\u001b[1;33m,\u001b[0m \u001b[0maxis\u001b[0m\u001b[1;33m=\u001b[0m\u001b[0mself\u001b[0m\u001b[1;33m.\u001b[0m\u001b[0maxis\u001b[0m\u001b[1;33m)\u001b[0m\u001b[1;33m\u001b[0m\u001b[0m\n",
      "\u001b[1;31mKeyError\u001b[0m: 'A'"
     ]
    }
   ],
   "source": [
    "import pandas as p\n",
    "df=p.read_csv('x.csv')\n",
    "z=df.groupby(\"Age\")[[\"Name\",\"Passout\"]]\n",
    "for i,j in z:\n",
    "    print(i)\n",
    "    print(j)\n",
    "z.get_group(\"A\")        # doubt get_group concept"
   ]
  }
 ],
 "metadata": {
  "kernelspec": {
   "display_name": "Python 3",
   "language": "python",
   "name": "python3"
  },
  "language_info": {
   "codemirror_mode": {
    "name": "ipython",
    "version": 3
   },
   "file_extension": ".py",
   "mimetype": "text/x-python",
   "name": "python",
   "nbconvert_exporter": "python",
   "pygments_lexer": "ipython3",
   "version": "3.6.5"
  }
 },
 "nbformat": 4,
 "nbformat_minor": 2
}
