{
 "cells": [
  {
   "cell_type": "code",
   "execution_count": 2,
   "metadata": {},
   "outputs": [
    {
     "name": "stdout",
     "output_type": "stream",
     "text": [
      "0    1\n",
      "1    2\n",
      "2    3\n",
      "3    4\n",
      "4    5\n",
      "5    6\n",
      "6    7\n",
      "dtype: int64\n",
      "<class 'list'>\n"
     ]
    }
   ],
   "source": [
    "import pandas as p\n",
    "sr=[1,2,3,4,5,6,7]                     # sr is list \n",
    "print(p.Series(sr))                    # pandas.Series(data) use to create series\n",
    "print(type(sr))"
   ]
  },
  {
   "cell_type": "code",
   "execution_count": 4,
   "metadata": {},
   "outputs": [
    {
     "name": "stdout",
     "output_type": "stream",
     "text": [
      "0     [1, 2, 3]\n",
      "1    [10, 9, 3]\n",
      "dtype: object\n",
      "<class 'list'>\n"
     ]
    }
   ],
   "source": [
    "import pandas as p\n",
    "sr=[[1,2,3],[10,9,3]]                    # sr is nested list\n",
    "print(p.Series(sr))                    # pandas.Series(data) use to create series\n",
    "print(type(sr))"
   ]
  },
  {
   "cell_type": "code",
   "execution_count": 5,
   "metadata": {},
   "outputs": [
    {
     "name": "stdout",
     "output_type": "stream",
     "text": [
      "0     [1, 2, 3]\n",
      "1    [10, 9, 3]\n",
      "dtype: object\n",
      "<class 'tuple'>\n"
     ]
    }
   ],
   "source": [
    "import pandas as p\n",
    "sr=([1,2,3],[10,9,3])                    # sr is tuple\n",
    "print(p.Series(sr))                    # pandas.Series(data) use to create series\n",
    "print(type(sr))"
   ]
  },
  {
   "cell_type": "code",
   "execution_count": 7,
   "metadata": {},
   "outputs": [
    {
     "name": "stdout",
     "output_type": "stream",
     "text": [
      "1     [1, 2, 3]\n",
      "2    [10, 9, 3]\n",
      "dtype: object\n",
      "<class 'dict'>\n"
     ]
    }
   ],
   "source": [
    "import pandas as p\n",
    "sr={1:[1,2,3],2:[10,9,3]}                    # sr is Dictinary\n",
    "print(p.Series(sr))                    # pandas.Series(data) use to create series\n",
    "print(type(sr))                         # it takes keys as index if index is not declare"
   ]
  },
  {
   "cell_type": "code",
   "execution_count": 5,
   "metadata": {},
   "outputs": [
    {
     "name": "stdout",
     "output_type": "stream",
     "text": [
      "0           NaN\n",
      "1     [1, 2, 3]\n",
      "2    [10, 9, 3]\n",
      "dtype: object\n",
      "<class 'dict'>\n"
     ]
    }
   ],
   "source": [
    "import pandas as p\n",
    "sr={1:[1,2,3],2:[10,9,3]}                    # sr is Dictinary\n",
    "print(p.Series(sr, index=[0,1,2]))      # pandas.Series(data) use to create series print(type(sr))                         \n",
    "                                          # it takes keys as index if index is not declare\n",
    "print(type(sr))"
   ]
  },
  {
   "cell_type": "code",
   "execution_count": 8,
   "metadata": {},
   "outputs": [
    {
     "name": "stdout",
     "output_type": "stream",
     "text": [
      "0           NaN\n",
      "1     [1, 2, 3]\n",
      "2    [10, 9, 3]\n",
      "dtype: object\n"
     ]
    }
   ],
   "source": [
    "import pandas as p\n",
    "sr={1:[1,2,3],2:[10,9,3]}                    # sr is Dictinary\n",
    "print(p.Series(sr, index=[0,1,2]))"
   ]
  },
  {
   "cell_type": "code",
   "execution_count": null,
   "metadata": {},
   "outputs": [],
   "source": []
  }
 ],
 "metadata": {
  "kernelspec": {
   "display_name": "Python 3",
   "language": "python",
   "name": "python3"
  },
  "language_info": {
   "codemirror_mode": {
    "name": "ipython",
    "version": 3
   },
   "file_extension": ".py",
   "mimetype": "text/x-python",
   "name": "python",
   "nbconvert_exporter": "python",
   "pygments_lexer": "ipython3",
   "version": "3.6.5"
  }
 },
 "nbformat": 4,
 "nbformat_minor": 2
}
